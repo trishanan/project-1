{
 "cells": [
  {
   "cell_type": "code",
   "execution_count": 1,
   "metadata": {},
   "outputs": [],
   "source": [
    "import pandas as pd\n",
    "import numpy as np"
   ]
  },
  {
   "cell_type": "markdown",
   "metadata": {},
   "source": [
    "# The pandas and numpy library are imported here"
   ]
  },
  {
   "cell_type": "code",
   "execution_count": 49,
   "metadata": {
    "scrolled": true
   },
   "outputs": [
    {
     "data": {
      "text/html": [
       "<div>\n",
       "<style scoped>\n",
       "    .dataframe tbody tr th:only-of-type {\n",
       "        vertical-align: middle;\n",
       "    }\n",
       "\n",
       "    .dataframe tbody tr th {\n",
       "        vertical-align: top;\n",
       "    }\n",
       "\n",
       "    .dataframe thead th {\n",
       "        text-align: right;\n",
       "    }\n",
       "</style>\n",
       "<table border=\"1\" class=\"dataframe\">\n",
       "  <thead>\n",
       "    <tr style=\"text-align: right;\">\n",
       "      <th></th>\n",
       "      <th>Manufacturer</th>\n",
       "      <th>Model Name</th>\n",
       "      <th>Category</th>\n",
       "      <th>Screen Size</th>\n",
       "      <th>Screen</th>\n",
       "      <th>CPU</th>\n",
       "      <th>RAM</th>\n",
       "      <th>Storage</th>\n",
       "      <th>GPU</th>\n",
       "      <th>Operating System</th>\n",
       "      <th>Operating System Version</th>\n",
       "      <th>Weight</th>\n",
       "      <th>Price (Euros)</th>\n",
       "    </tr>\n",
       "  </thead>\n",
       "  <tbody>\n",
       "    <tr>\n",
       "      <th>0</th>\n",
       "      <td>Apple</td>\n",
       "      <td>MacBook Pro</td>\n",
       "      <td>Ultrabook</td>\n",
       "      <td>13.3\"</td>\n",
       "      <td>IPS Panel Retina Display 2560x1600</td>\n",
       "      <td>Intel Core i5 2.3GHz</td>\n",
       "      <td>8GB</td>\n",
       "      <td>128GB SSD</td>\n",
       "      <td>Intel Iris Plus Graphics 640</td>\n",
       "      <td>macOS</td>\n",
       "      <td>NaN</td>\n",
       "      <td>1.37kg</td>\n",
       "      <td>1339,69</td>\n",
       "    </tr>\n",
       "    <tr>\n",
       "      <th>1</th>\n",
       "      <td>Apple</td>\n",
       "      <td>Macbook Air</td>\n",
       "      <td>Ultrabook</td>\n",
       "      <td>13.3\"</td>\n",
       "      <td>1440x900</td>\n",
       "      <td>Intel Core i5 1.8GHz</td>\n",
       "      <td>8GB</td>\n",
       "      <td>128GB Flash Storage</td>\n",
       "      <td>Intel HD Graphics 6000</td>\n",
       "      <td>macOS</td>\n",
       "      <td>NaN</td>\n",
       "      <td>1.34kg</td>\n",
       "      <td>898,94</td>\n",
       "    </tr>\n",
       "    <tr>\n",
       "      <th>2</th>\n",
       "      <td>HP</td>\n",
       "      <td>250 G6</td>\n",
       "      <td>Notebook</td>\n",
       "      <td>15.6\"</td>\n",
       "      <td>Full HD 1920x1080</td>\n",
       "      <td>Intel Core i5 7200U 2.5GHz</td>\n",
       "      <td>8GB</td>\n",
       "      <td>256GB SSD</td>\n",
       "      <td>Intel HD Graphics 620</td>\n",
       "      <td>No OS</td>\n",
       "      <td>NaN</td>\n",
       "      <td>1.86kg</td>\n",
       "      <td>575,00</td>\n",
       "    </tr>\n",
       "    <tr>\n",
       "      <th>3</th>\n",
       "      <td>Apple</td>\n",
       "      <td>MacBook Pro</td>\n",
       "      <td>Ultrabook</td>\n",
       "      <td>15.4\"</td>\n",
       "      <td>IPS Panel Retina Display 2880x1800</td>\n",
       "      <td>Intel Core i7 2.7GHz</td>\n",
       "      <td>16GB</td>\n",
       "      <td>512GB SSD</td>\n",
       "      <td>AMD Radeon Pro 455</td>\n",
       "      <td>macOS</td>\n",
       "      <td>NaN</td>\n",
       "      <td>1.83kg</td>\n",
       "      <td>2537,45</td>\n",
       "    </tr>\n",
       "    <tr>\n",
       "      <th>4</th>\n",
       "      <td>Apple</td>\n",
       "      <td>MacBook Pro</td>\n",
       "      <td>Ultrabook</td>\n",
       "      <td>13.3\"</td>\n",
       "      <td>IPS Panel Retina Display 2560x1600</td>\n",
       "      <td>Intel Core i5 3.1GHz</td>\n",
       "      <td>8GB</td>\n",
       "      <td>256GB SSD</td>\n",
       "      <td>Intel Iris Plus Graphics 650</td>\n",
       "      <td>macOS</td>\n",
       "      <td>NaN</td>\n",
       "      <td>1.37kg</td>\n",
       "      <td>1803,60</td>\n",
       "    </tr>\n",
       "  </tbody>\n",
       "</table>\n",
       "</div>"
      ],
      "text/plain": [
       "  Manufacturer   Model Name   Category Screen Size  \\\n",
       "0        Apple  MacBook Pro  Ultrabook       13.3\"   \n",
       "1        Apple  Macbook Air  Ultrabook       13.3\"   \n",
       "2           HP       250 G6   Notebook       15.6\"   \n",
       "3        Apple  MacBook Pro  Ultrabook       15.4\"   \n",
       "4        Apple  MacBook Pro  Ultrabook       13.3\"   \n",
       "\n",
       "                               Screen                         CPU   RAM  \\\n",
       "0  IPS Panel Retina Display 2560x1600        Intel Core i5 2.3GHz   8GB   \n",
       "1                            1440x900        Intel Core i5 1.8GHz   8GB   \n",
       "2                   Full HD 1920x1080  Intel Core i5 7200U 2.5GHz   8GB   \n",
       "3  IPS Panel Retina Display 2880x1800        Intel Core i7 2.7GHz  16GB   \n",
       "4  IPS Panel Retina Display 2560x1600        Intel Core i5 3.1GHz   8GB   \n",
       "\n",
       "               Storage                           GPU Operating System  \\\n",
       "0            128GB SSD  Intel Iris Plus Graphics 640            macOS   \n",
       "1  128GB Flash Storage        Intel HD Graphics 6000            macOS   \n",
       "2            256GB SSD         Intel HD Graphics 620            No OS   \n",
       "3            512GB SSD            AMD Radeon Pro 455            macOS   \n",
       "4            256GB SSD  Intel Iris Plus Graphics 650            macOS   \n",
       "\n",
       "  Operating System Version  Weight Price (Euros)  \n",
       "0                      NaN  1.37kg       1339,69  \n",
       "1                      NaN  1.34kg        898,94  \n",
       "2                      NaN  1.86kg        575,00  \n",
       "3                      NaN  1.83kg       2537,45  \n",
       "4                      NaN  1.37kg       1803,60  "
      ]
     },
     "execution_count": 49,
     "metadata": {},
     "output_type": "execute_result"
    }
   ],
   "source": [
    "laptops = pd.read_csv(\"laptops.csv\",encoding= \"Latin-1\")\n",
    "laptops.head()"
   ]
  },
  {
   "cell_type": "markdown",
   "metadata": {},
   "source": [
    "## The \"laptops.csv\" file is read into a dataframe named \"laptops\""
   ]
  },
  {
   "cell_type": "code",
   "execution_count": 3,
   "metadata": {},
   "outputs": [
    {
     "name": "stdout",
     "output_type": "stream",
     "text": [
      "<class 'pandas.core.frame.DataFrame'>\n",
      "RangeIndex: 1303 entries, 0 to 1302\n",
      "Data columns (total 13 columns):\n",
      "Manufacturer                1303 non-null object\n",
      "Model Name                  1303 non-null object\n",
      "Category                    1303 non-null object\n",
      "Screen Size                 1303 non-null object\n",
      "Screen                      1303 non-null object\n",
      "CPU                         1303 non-null object\n",
      "RAM                         1303 non-null object\n",
      " Storage                    1303 non-null object\n",
      "GPU                         1303 non-null object\n",
      "Operating System            1303 non-null object\n",
      "Operating System Version    1133 non-null object\n",
      "Weight                      1303 non-null object\n",
      "Price (Euros)               1303 non-null object\n",
      "dtypes: object(13)\n",
      "memory usage: 132.4+ KB\n"
     ]
    }
   ],
   "source": [
    "laptops.info()"
   ]
  },
  {
   "cell_type": "markdown",
   "metadata": {},
   "source": [
    "## Laptops.info() helps us check the type of data we are working with and also shows the number of entries for each column."
   ]
  },
  {
   "cell_type": "code",
   "execution_count": 4,
   "metadata": {},
   "outputs": [
    {
     "data": {
      "text/plain": [
       "Index(['Manufacturer', 'Model Name', 'Category', 'Screen Size', 'Screen',\n",
       "       'CPU', 'RAM', ' Storage', 'GPU', 'Operating System',\n",
       "       'Operating System Version', 'Weight', 'Price (Euros)'],\n",
       "      dtype='object')"
      ]
     },
     "execution_count": 4,
     "metadata": {},
     "output_type": "execute_result"
    }
   ],
   "source": [
    "laptops.columns"
   ]
  },
  {
   "cell_type": "code",
   "execution_count": 50,
   "metadata": {},
   "outputs": [
    {
     "name": "stdout",
     "output_type": "stream",
     "text": [
      "Index(['manufacturer', 'model_name', 'category', 'screen_size', 'screen',\n",
      "       'cpu', 'ram', 'storage', 'gpu', 'os', 'os_version', 'weight',\n",
      "       'price_euros'],\n",
      "      dtype='object')\n"
     ]
    }
   ],
   "source": [
    "def clean_col(col):\n",
    "    col = col.strip()\n",
    "    col = col.replace(\"Operating System\",\"os\")\n",
    "    col = col.replace(\" \",\"_\")\n",
    "    col = col.replace(\"(\",\"\")\n",
    "    col = col.replace(\")\",\"\")\n",
    "    col = col.lower()\n",
    "    return col\n",
    "laptops.columns = [clean_col(c) for c in laptops.columns]\n",
    "print(laptops.columns)"
   ]
  },
  {
   "cell_type": "markdown",
   "metadata": {},
   "source": [
    "## Here i cleaned the column names and we can see the changes in the column names in this cell in comparison the cell above."
   ]
  },
  {
   "cell_type": "code",
   "execution_count": 51,
   "metadata": {},
   "outputs": [],
   "source": [
    "laptops[\"screen_size\"] = laptops[\"screen_size\"].str.replace('\"','').astype(float)\n",
    "laptops.rename({\"screen_size\": \"screen_size_inches\"}, axis=1, inplace=True)\n",
    "\n",
    "laptops[\"ram\"] = laptops[\"ram\"].str.replace('GB','').astype(int)\n",
    "laptops.rename({\"ram\": \"ram_gb\"}, axis=1, inplace=True)\n",
    "\n",
    "laptops[\"weight\"] = laptops[\"weight\"].str.replace(\"kgs\",\"\").str.replace(\"kg\",\"\").astype(float)\n",
    "laptops.rename({\"weight\": \"weight_kg\"}, axis=1, inplace=True)\n",
    "\n",
    "laptops[\"price_euros\"] = laptops[\"price_euros\"].str.replace(\",\",\".\").astype(float)"
   ]
  },
  {
   "cell_type": "code",
   "execution_count": 10,
   "metadata": {},
   "outputs": [
    {
     "data": {
      "text/html": [
       "<div>\n",
       "<style scoped>\n",
       "    .dataframe tbody tr th:only-of-type {\n",
       "        vertical-align: middle;\n",
       "    }\n",
       "\n",
       "    .dataframe tbody tr th {\n",
       "        vertical-align: top;\n",
       "    }\n",
       "\n",
       "    .dataframe thead th {\n",
       "        text-align: right;\n",
       "    }\n",
       "</style>\n",
       "<table border=\"1\" class=\"dataframe\">\n",
       "  <thead>\n",
       "    <tr style=\"text-align: right;\">\n",
       "      <th></th>\n",
       "      <th>screen_size_inches</th>\n",
       "      <th>ram_gb</th>\n",
       "      <th>weight_kg</th>\n",
       "      <th>price_euros</th>\n",
       "    </tr>\n",
       "  </thead>\n",
       "  <tbody>\n",
       "    <tr>\n",
       "      <th>0</th>\n",
       "      <td>13.3</td>\n",
       "      <td>8</td>\n",
       "      <td>1.37</td>\n",
       "      <td>1339.69</td>\n",
       "    </tr>\n",
       "    <tr>\n",
       "      <th>1</th>\n",
       "      <td>13.3</td>\n",
       "      <td>8</td>\n",
       "      <td>1.34</td>\n",
       "      <td>898.94</td>\n",
       "    </tr>\n",
       "    <tr>\n",
       "      <th>2</th>\n",
       "      <td>15.6</td>\n",
       "      <td>8</td>\n",
       "      <td>1.86</td>\n",
       "      <td>575.00</td>\n",
       "    </tr>\n",
       "  </tbody>\n",
       "</table>\n",
       "</div>"
      ],
      "text/plain": [
       "   screen_size_inches  ram_gb  weight_kg  price_euros\n",
       "0                13.3       8       1.37      1339.69\n",
       "1                13.3       8       1.34       898.94\n",
       "2                15.6       8       1.86       575.00"
      ]
     },
     "execution_count": 10,
     "metadata": {},
     "output_type": "execute_result"
    }
   ],
   "source": [
    "laptops.iloc[:3,[3,6,11,12]]"
   ]
  },
  {
   "cell_type": "markdown",
   "metadata": {},
   "source": [
    "## As we can see from above cell i cleaned the \"screen_size\",\"ram\",\"weight\",\"price_euros\" columns by str.replace and converted it to numerical using astype."
   ]
  },
  {
   "cell_type": "code",
   "execution_count": 52,
   "metadata": {},
   "outputs": [],
   "source": [
    "screen_res = laptops[\"screen\"].str.rsplit(n=1, expand=True)\n",
    "screen_res.columns = [\"A\", \"B\"]\n",
    "screen_res.loc[screen_res[\"B\"].isnull(), \"B\"] = screen_res[\"A\"]\n",
    "laptops[\"screen_resolution\"] = screen_res[\"B\"]"
   ]
  },
  {
   "cell_type": "markdown",
   "metadata": {},
   "source": [
    "## As we can see from the cell above,the first code first splitted each entry of \"screen\" column and then in the second line,the column names were renamed,the third line accounted for imputing the null values in column \"B\" from column \"A\" and finally it is renamed in the last code and added to laptops dataframe.  "
   ]
  },
  {
   "cell_type": "code",
   "execution_count": 12,
   "metadata": {},
   "outputs": [
    {
     "data": {
      "text/plain": [
       "0          Intel Core i5 2.3GHz\n",
       "1          Intel Core i5 1.8GHz\n",
       "2    Intel Core i5 7200U 2.5GHz\n",
       "3          Intel Core i7 2.7GHz\n",
       "4          Intel Core i5 3.1GHz\n",
       "Name: cpu, dtype: object"
      ]
     },
     "execution_count": 12,
     "metadata": {},
     "output_type": "execute_result"
    }
   ],
   "source": [
    "laptops[\"cpu\"].head(3)"
   ]
  },
  {
   "cell_type": "code",
   "execution_count": 53,
   "metadata": {},
   "outputs": [],
   "source": [
    "laptops[\"cpu_speed_ghz\"] = (laptops[\"cpu\"]\n",
    "                            .str.replace(\"GHz\",\"\")\n",
    "                            .str.rsplit(n=1,expand=True)\n",
    "                            .iloc[:,1]\n",
    "                            .astype(float)\n",
    "                            )"
   ]
  },
  {
   "cell_type": "code",
   "execution_count": 14,
   "metadata": {},
   "outputs": [
    {
     "data": {
      "text/plain": [
       "0    2.3\n",
       "1    1.8\n",
       "2    2.5\n",
       "Name: cpu_speed_ghz, dtype: float64"
      ]
     },
     "execution_count": 14,
     "metadata": {},
     "output_type": "execute_result"
    }
   ],
   "source": [
    "laptops[\"cpu_speed_ghz\"].head(3)"
   ]
  },
  {
   "cell_type": "markdown",
   "metadata": {},
   "source": [
    "## In the code above we cleaned the column by replacing \"GHz\" and then splitting backwards by 1 partition using str.rsplit,then took the second column using iloc and finally converted to float datatype"
   ]
  },
  {
   "cell_type": "code",
   "execution_count": 54,
   "metadata": {},
   "outputs": [],
   "source": [
    "laptops[\"gpu_manufacturer\"] = (laptops[\"gpu\"].str.split(n=1,expand=True).iloc[:,0])\n",
    "laptops[\"cpu_manufacturer\"] = (laptops[\"cpu\"].str.split(n=1,expand=True).iloc[:,0]) "
   ]
  },
  {
   "cell_type": "markdown",
   "metadata": {},
   "source": [
    "## The name of the companies were extracted from the \"gpu\" and the \"cpu\" columns using str.split and taking the first column"
   ]
  },
  {
   "cell_type": "code",
   "execution_count": 17,
   "metadata": {},
   "outputs": [
    {
     "data": {
      "text/html": [
       "<div>\n",
       "<style scoped>\n",
       "    .dataframe tbody tr th:only-of-type {\n",
       "        vertical-align: middle;\n",
       "    }\n",
       "\n",
       "    .dataframe tbody tr th {\n",
       "        vertical-align: top;\n",
       "    }\n",
       "\n",
       "    .dataframe thead th {\n",
       "        text-align: right;\n",
       "    }\n",
       "</style>\n",
       "<table border=\"1\" class=\"dataframe\">\n",
       "  <thead>\n",
       "    <tr style=\"text-align: right;\">\n",
       "      <th></th>\n",
       "      <th>screen_resolution</th>\n",
       "      <th>cpu_speed_ghz</th>\n",
       "      <th>gpu_manufacturer</th>\n",
       "      <th>cpu_manufacturer</th>\n",
       "    </tr>\n",
       "  </thead>\n",
       "  <tbody>\n",
       "    <tr>\n",
       "      <th>0</th>\n",
       "      <td>2560x1600</td>\n",
       "      <td>2.3</td>\n",
       "      <td>Intel</td>\n",
       "      <td>Intel</td>\n",
       "    </tr>\n",
       "    <tr>\n",
       "      <th>1</th>\n",
       "      <td>1440x900</td>\n",
       "      <td>1.8</td>\n",
       "      <td>Intel</td>\n",
       "      <td>Intel</td>\n",
       "    </tr>\n",
       "    <tr>\n",
       "      <th>2</th>\n",
       "      <td>1920x1080</td>\n",
       "      <td>2.5</td>\n",
       "      <td>Intel</td>\n",
       "      <td>Intel</td>\n",
       "    </tr>\n",
       "  </tbody>\n",
       "</table>\n",
       "</div>"
      ],
      "text/plain": [
       "  screen_resolution  cpu_speed_ghz gpu_manufacturer cpu_manufacturer\n",
       "0         2560x1600            2.3            Intel            Intel\n",
       "1          1440x900            1.8            Intel            Intel\n",
       "2         1920x1080            2.5            Intel            Intel"
      ]
     },
     "execution_count": 17,
     "metadata": {},
     "output_type": "execute_result"
    }
   ],
   "source": [
    "laptops.iloc[:3,13:17]"
   ]
  },
  {
   "cell_type": "markdown",
   "metadata": {},
   "source": [
    "## The new columns created are shown above"
   ]
  },
  {
   "cell_type": "markdown",
   "metadata": {},
   "source": [
    "## CORRECTING BAD VALUES check for columns having \"Mac OS \" and rewrite as \"macOS\""
   ]
  },
  {
   "cell_type": "code",
   "execution_count": 55,
   "metadata": {},
   "outputs": [],
   "source": [
    "mapping_dict = {\n",
    "    'Android': 'Android',\n",
    "    'Chrome OS': 'Chrome OS',\n",
    "    'Linux': 'Linux',\n",
    "    'Mac OS': 'macOS',\n",
    "    'No OS': 'No OS',\n",
    "    'Windows': 'Windows',\n",
    "    'macOS': 'macOS'}"
   ]
  },
  {
   "cell_type": "code",
   "execution_count": 56,
   "metadata": {},
   "outputs": [],
   "source": [
    "laptops[\"os\"] = laptops[\"os\"].map(mapping_dict)"
   ]
  },
  {
   "cell_type": "code",
   "execution_count": 44,
   "metadata": {},
   "outputs": [
    {
     "data": {
      "text/plain": [
       "Windows      1125\n",
       "No OS          66\n",
       "Linux          62\n",
       "Chrome OS      27\n",
       "macOS          21\n",
       "Android         2\n",
       "Name: os, dtype: int64"
      ]
     },
     "execution_count": 44,
     "metadata": {},
     "output_type": "execute_result"
    }
   ],
   "source": [
    "laptops[\"os\"].value_counts()"
   ]
  },
  {
   "cell_type": "markdown",
   "metadata": {},
   "source": [
    "## The mapping of the \"os\" column is done to clear the confusion between \"Mac OS\" and \"macOS\""
   ]
  },
  {
   "cell_type": "code",
   "execution_count": 57,
   "metadata": {},
   "outputs": [],
   "source": [
    "laptops.loc[laptops[\"os\"] == \"macOS\", \"os_version\"] = \"X\"\n",
    "laptops.loc[laptops[\"os\"] == \"No OS\", \"os_version\"] = \"Version Unknown\""
   ]
  },
  {
   "cell_type": "markdown",
   "metadata": {},
   "source": [
    "## As there were some missing values in \"os_version\", we imput it with \"X\""
   ]
  },
  {
   "cell_type": "code",
   "execution_count": 46,
   "metadata": {},
   "outputs": [
    {
     "data": {
      "text/plain": [
       "array(['128GB SSD', '128GB Flash Storage', '256GB SSD', '512GB SSD',\n",
       "       '500GB HDD', '256GB Flash Storage', '1TB HDD',\n",
       "       '32GB Flash Storage', '128GB SSD +  1TB HDD',\n",
       "       '256GB SSD +  256GB SSD', '64GB Flash Storage',\n",
       "       '256GB SSD +  1TB HDD', '256GB SSD +  2TB HDD', '32GB SSD',\n",
       "       '2TB HDD', '64GB SSD', '1TB Hybrid', '512GB SSD +  1TB HDD',\n",
       "       '1TB SSD', '256GB SSD +  500GB HDD', '128GB SSD +  2TB HDD',\n",
       "       '512GB SSD +  512GB SSD', '16GB SSD', '16GB Flash Storage',\n",
       "       '512GB SSD +  256GB SSD', '512GB SSD +  2TB HDD',\n",
       "       '64GB Flash Storage +  1TB HDD', '1GB SSD', '1TB HDD +  1TB HDD',\n",
       "       '32GB HDD', '1TB SSD +  1TB HDD', '512GB Flash Storage',\n",
       "       '128GB HDD', '240GB SSD', '8GB SSD', '508GB Hybrid',\n",
       "       '512GB SSD +  1TB Hybrid', '256GB SSD +  1TB Hybrid'], dtype=object)"
      ]
     },
     "execution_count": 46,
     "metadata": {},
     "output_type": "execute_result"
    }
   ],
   "source": [
    "laptops[\"storage\"].unique()"
   ]
  },
  {
   "cell_type": "code",
   "execution_count": 58,
   "metadata": {},
   "outputs": [],
   "source": [
    "a = laptops[\"storage\"].str.replace(\"GB\",\"\").str.replace(\"TB\",\"000\")\n",
    "a = a.str.split(\"+\",expand = True)\n",
    "#spliiting the a[0] part\n",
    "b = a[0].str.split(n=1,expand = True)\n",
    "b[0] = b[0].astype(float)\n",
    "b[1] = b[1].str.strip()\n",
    "laptops[[\"storage_1_capacity_gb\",\"storage_1_type\"]] = b[[0,1]]\n",
    "#splitting the a[1] part\n",
    "c = a[1].str.split(n=1,expand = True)\n",
    "c[0] = c[0].astype(float)\n",
    "c[1] = c[1].str.strip()\n",
    "laptops[[\"storage_2_capacity_gb\",\"storage_2_type\"]] = c[[0,1]]\n",
    "\n",
    "del a\n",
    "del b\n",
    "del c\n",
    "laptops = laptops.drop('storage',axis = 1)\n"
   ]
  },
  {
   "cell_type": "markdown",
   "metadata": {},
   "source": [
    "## Here i cleaned up the storage to convert it into usable features"
   ]
  },
  {
   "cell_type": "code",
   "execution_count": 59,
   "metadata": {},
   "outputs": [],
   "source": [
    "cols = ['manufacturer', 'model_name', 'category', 'screen_size_inches',\n",
    "        'screen','screen_resolution', 'cpu', 'cpu_manufacturer',  'cpu_speed_ghz', 'ram_gb',\n",
    "        'storage_1_type', 'storage_1_capacity_gb', 'storage_2_type',\n",
    "        'storage_2_capacity_gb', 'gpu', 'gpu_manufacturer', 'os',\n",
    "        'os_version', 'weight_kg', 'price_euros']\n",
    "\n",
    "laptops = laptops[cols]"
   ]
  },
  {
   "cell_type": "code",
   "execution_count": 60,
   "metadata": {},
   "outputs": [],
   "source": [
    "laptops.to_csv('laptops_cleaned.csv',index=False)\n",
    "laptops_cleaned = pd.read_csv('laptops_cleaned.csv')"
   ]
  },
  {
   "cell_type": "code",
   "execution_count": 61,
   "metadata": {},
   "outputs": [
    {
     "data": {
      "text/html": [
       "<div>\n",
       "<style scoped>\n",
       "    .dataframe tbody tr th:only-of-type {\n",
       "        vertical-align: middle;\n",
       "    }\n",
       "\n",
       "    .dataframe tbody tr th {\n",
       "        vertical-align: top;\n",
       "    }\n",
       "\n",
       "    .dataframe thead th {\n",
       "        text-align: right;\n",
       "    }\n",
       "</style>\n",
       "<table border=\"1\" class=\"dataframe\">\n",
       "  <thead>\n",
       "    <tr style=\"text-align: right;\">\n",
       "      <th></th>\n",
       "      <th>manufacturer</th>\n",
       "      <th>model_name</th>\n",
       "      <th>category</th>\n",
       "      <th>screen_size_inches</th>\n",
       "      <th>screen</th>\n",
       "      <th>screen_resolution</th>\n",
       "      <th>cpu</th>\n",
       "      <th>cpu_manufacturer</th>\n",
       "      <th>cpu_speed_ghz</th>\n",
       "      <th>ram_gb</th>\n",
       "      <th>storage_1_type</th>\n",
       "      <th>storage_1_capacity_gb</th>\n",
       "      <th>storage_2_type</th>\n",
       "      <th>storage_2_capacity_gb</th>\n",
       "      <th>gpu</th>\n",
       "      <th>gpu_manufacturer</th>\n",
       "      <th>os</th>\n",
       "      <th>os_version</th>\n",
       "      <th>weight_kg</th>\n",
       "      <th>price_euros</th>\n",
       "    </tr>\n",
       "  </thead>\n",
       "  <tbody>\n",
       "    <tr>\n",
       "      <th>0</th>\n",
       "      <td>Apple</td>\n",
       "      <td>MacBook Pro</td>\n",
       "      <td>Ultrabook</td>\n",
       "      <td>13.3</td>\n",
       "      <td>IPS Panel Retina Display 2560x1600</td>\n",
       "      <td>2560x1600</td>\n",
       "      <td>Intel Core i5 2.3GHz</td>\n",
       "      <td>Intel</td>\n",
       "      <td>2.3</td>\n",
       "      <td>8</td>\n",
       "      <td>SSD</td>\n",
       "      <td>128.0</td>\n",
       "      <td>NaN</td>\n",
       "      <td>NaN</td>\n",
       "      <td>Intel Iris Plus Graphics 640</td>\n",
       "      <td>Intel</td>\n",
       "      <td>macOS</td>\n",
       "      <td>X</td>\n",
       "      <td>1.37</td>\n",
       "      <td>1339.69</td>\n",
       "    </tr>\n",
       "    <tr>\n",
       "      <th>1</th>\n",
       "      <td>Apple</td>\n",
       "      <td>Macbook Air</td>\n",
       "      <td>Ultrabook</td>\n",
       "      <td>13.3</td>\n",
       "      <td>1440x900</td>\n",
       "      <td>1440x900</td>\n",
       "      <td>Intel Core i5 1.8GHz</td>\n",
       "      <td>Intel</td>\n",
       "      <td>1.8</td>\n",
       "      <td>8</td>\n",
       "      <td>Flash Storage</td>\n",
       "      <td>128.0</td>\n",
       "      <td>NaN</td>\n",
       "      <td>NaN</td>\n",
       "      <td>Intel HD Graphics 6000</td>\n",
       "      <td>Intel</td>\n",
       "      <td>macOS</td>\n",
       "      <td>X</td>\n",
       "      <td>1.34</td>\n",
       "      <td>898.94</td>\n",
       "    </tr>\n",
       "    <tr>\n",
       "      <th>2</th>\n",
       "      <td>HP</td>\n",
       "      <td>250 G6</td>\n",
       "      <td>Notebook</td>\n",
       "      <td>15.6</td>\n",
       "      <td>Full HD 1920x1080</td>\n",
       "      <td>1920x1080</td>\n",
       "      <td>Intel Core i5 7200U 2.5GHz</td>\n",
       "      <td>Intel</td>\n",
       "      <td>2.5</td>\n",
       "      <td>8</td>\n",
       "      <td>SSD</td>\n",
       "      <td>256.0</td>\n",
       "      <td>NaN</td>\n",
       "      <td>NaN</td>\n",
       "      <td>Intel HD Graphics 620</td>\n",
       "      <td>Intel</td>\n",
       "      <td>No OS</td>\n",
       "      <td>Version Unknown</td>\n",
       "      <td>1.86</td>\n",
       "      <td>575.00</td>\n",
       "    </tr>\n",
       "  </tbody>\n",
       "</table>\n",
       "</div>"
      ],
      "text/plain": [
       "  manufacturer   model_name   category  screen_size_inches  \\\n",
       "0        Apple  MacBook Pro  Ultrabook                13.3   \n",
       "1        Apple  Macbook Air  Ultrabook                13.3   \n",
       "2           HP       250 G6   Notebook                15.6   \n",
       "\n",
       "                               screen screen_resolution  \\\n",
       "0  IPS Panel Retina Display 2560x1600         2560x1600   \n",
       "1                            1440x900          1440x900   \n",
       "2                   Full HD 1920x1080         1920x1080   \n",
       "\n",
       "                          cpu cpu_manufacturer  cpu_speed_ghz  ram_gb  \\\n",
       "0        Intel Core i5 2.3GHz            Intel            2.3       8   \n",
       "1        Intel Core i5 1.8GHz            Intel            1.8       8   \n",
       "2  Intel Core i5 7200U 2.5GHz            Intel            2.5       8   \n",
       "\n",
       "  storage_1_type  storage_1_capacity_gb storage_2_type  storage_2_capacity_gb  \\\n",
       "0            SSD                  128.0            NaN                    NaN   \n",
       "1  Flash Storage                  128.0            NaN                    NaN   \n",
       "2            SSD                  256.0            NaN                    NaN   \n",
       "\n",
       "                            gpu gpu_manufacturer     os       os_version  \\\n",
       "0  Intel Iris Plus Graphics 640            Intel  macOS                X   \n",
       "1        Intel HD Graphics 6000            Intel  macOS                X   \n",
       "2         Intel HD Graphics 620            Intel  No OS  Version Unknown   \n",
       "\n",
       "   weight_kg  price_euros  \n",
       "0       1.37      1339.69  \n",
       "1       1.34       898.94  \n",
       "2       1.86       575.00  "
      ]
     },
     "execution_count": 61,
     "metadata": {},
     "output_type": "execute_result"
    }
   ],
   "source": [
    "laptops_cleaned.head(3)"
   ]
  },
  {
   "cell_type": "markdown",
   "metadata": {},
   "source": [
    "## In the above cells,the oredered the sequence of the column names and produced a new csv file."
   ]
  },
  {
   "cell_type": "code",
   "execution_count": null,
   "metadata": {},
   "outputs": [],
   "source": []
  },
  {
   "cell_type": "markdown",
   "metadata": {},
   "source": [
    "## Are laptops made by Apple more expensive than those by other manufacturers?"
   ]
  },
  {
   "cell_type": "code",
   "execution_count": 62,
   "metadata": {},
   "outputs": [
    {
     "name": "stdout",
     "output_type": "stream",
     "text": [
      "{'Apple': 1564.1985714285713, 'HP': 1067.774854014598, 'Acer': 626.7758252427185, 'Asus': 1104.1693670886075, 'Dell': 1186.0689898989892, 'Lenovo': 1086.3844444444444, 'Chuwi': 314.2966666666667, 'MSI': 1728.9081481481485, 'Microsoft': 1612.3083333333334, 'Toshiba': 1267.8125, 'Huawei': 1424.0, 'Xiaomi': 1133.4625, 'Vero': 217.425, 'Razer': 3346.1428571428573, 'Mediacom': 295.0, 'Samsung': 1413.4444444444443, 'Google': 1677.6666666666667, 'Fujitsu': 729.0, 'LG': 2099.0}\n"
     ]
    },
    {
     "data": {
      "text/plain": [
       "Acer          626.775825\n",
       "Apple        1564.198571\n",
       "Asus         1104.169367\n",
       "Chuwi         314.296667\n",
       "Dell         1186.068990\n",
       "Fujitsu       729.000000\n",
       "Google       1677.666667\n",
       "HP           1067.774854\n",
       "Huawei       1424.000000\n",
       "LG           2099.000000\n",
       "Lenovo       1086.384444\n",
       "MSI          1728.908148\n",
       "Mediacom      295.000000\n",
       "Microsoft    1612.308333\n",
       "Razer        3346.142857\n",
       "Samsung      1413.444444\n",
       "Toshiba      1267.812500\n",
       "Vero          217.425000\n",
       "Xiaomi       1133.462500\n",
       "dtype: float64"
      ]
     },
     "execution_count": 62,
     "metadata": {},
     "output_type": "execute_result"
    }
   ],
   "source": [
    "manufacturer_price={}\n",
    "for i in laptops_cleaned[\"manufacturer\"].unique():\n",
    "    lap = laptops_cleaned[\"manufacturer\"] == i\n",
    "    price = laptops_cleaned.loc[lap,\"price_euros\"]\n",
    "    mean_price = price.mean()\n",
    "    manufacturer_price[i] = mean_price\n",
    "pd.Series(manufacturer_price)"
   ]
  },
  {
   "cell_type": "markdown",
   "metadata": {},
   "source": [
    "## No the laptops manufactured by Apple are not the most expensive.Instead Razer,LG,MSI,Microsoft,Google are more expensive than apple"
   ]
  },
  {
   "cell_type": "code",
   "execution_count": null,
   "metadata": {},
   "outputs": [],
   "source": []
  },
  {
   "cell_type": "markdown",
   "metadata": {},
   "source": [
    "## What is the best value laptop with a screen size of 15\" or more?"
   ]
  },
  {
   "cell_type": "code",
   "execution_count": 70,
   "metadata": {},
   "outputs": [
    {
     "name": "stderr",
     "output_type": "stream",
     "text": [
      "C:\\Users\\ASUS\\Anaconda3\\lib\\site-packages\\ipykernel_launcher.py:2: FutureWarning: \n",
      "Passing list-likes to .loc or [] with any missing label will raise\n",
      "KeyError in the future, you can use .reindex() as an alternative.\n",
      "\n",
      "See the documentation here:\n",
      "http://pandas.pydata.org/pandas-docs/stable/indexing.html#deprecate-loc-reindex-listlike\n",
      "  \n",
      "C:\\Users\\ASUS\\Anaconda3\\lib\\site-packages\\pandas\\core\\indexing.py:1367: FutureWarning: \n",
      "Passing list-likes to .loc or [] with any missing label will raise\n",
      "KeyError in the future, you can use .reindex() as an alternative.\n",
      "\n",
      "See the documentation here:\n",
      "http://pandas.pydata.org/pandas-docs/stable/indexing.html#deprecate-loc-reindex-listlike\n",
      "  return self._getitem_tuple(key)\n"
     ]
    },
    {
     "data": {
      "text/html": [
       "<div>\n",
       "<style scoped>\n",
       "    .dataframe tbody tr th:only-of-type {\n",
       "        vertical-align: middle;\n",
       "    }\n",
       "\n",
       "    .dataframe tbody tr th {\n",
       "        vertical-align: top;\n",
       "    }\n",
       "\n",
       "    .dataframe thead th {\n",
       "        text-align: right;\n",
       "    }\n",
       "</style>\n",
       "<table border=\"1\" class=\"dataframe\">\n",
       "  <thead>\n",
       "    <tr style=\"text-align: right;\">\n",
       "      <th></th>\n",
       "      <th>manufacturer</th>\n",
       "      <th>screen_size_inches</th>\n",
       "      <th>screen_resolution</th>\n",
       "      <th>cpu_manufacturer</th>\n",
       "      <th>cpu_speed_ghz</th>\n",
       "      <th>ram_GB</th>\n",
       "      <th>storage_1_type</th>\n",
       "      <th>storage_1_capacity_gb</th>\n",
       "      <th>storage_2_type</th>\n",
       "      <th>storage_2_capacity_gb</th>\n",
       "      <th>gpu_manufacturer</th>\n",
       "      <th>os</th>\n",
       "      <th>os_version</th>\n",
       "      <th>weight_kg</th>\n",
       "      <th>price_euros</th>\n",
       "    </tr>\n",
       "  </thead>\n",
       "  <tbody>\n",
       "    <tr>\n",
       "      <th>28</th>\n",
       "      <td>Dell</td>\n",
       "      <td>15.6</td>\n",
       "      <td>1920x1080</td>\n",
       "      <td>Intel</td>\n",
       "      <td>1.9</td>\n",
       "      <td>NaN</td>\n",
       "      <td>SSD</td>\n",
       "      <td>256.0</td>\n",
       "      <td>SSD</td>\n",
       "      <td>256.0</td>\n",
       "      <td>Intel</td>\n",
       "      <td>Windows</td>\n",
       "      <td>10</td>\n",
       "      <td>1.88</td>\n",
       "      <td>1298.00</td>\n",
       "    </tr>\n",
       "    <tr>\n",
       "      <th>347</th>\n",
       "      <td>Dell</td>\n",
       "      <td>15.6</td>\n",
       "      <td>1920x1080</td>\n",
       "      <td>Intel</td>\n",
       "      <td>1.9</td>\n",
       "      <td>NaN</td>\n",
       "      <td>SSD</td>\n",
       "      <td>512.0</td>\n",
       "      <td>SSD</td>\n",
       "      <td>256.0</td>\n",
       "      <td>Intel</td>\n",
       "      <td>Windows</td>\n",
       "      <td>10</td>\n",
       "      <td>1.88</td>\n",
       "      <td>1607.96</td>\n",
       "    </tr>\n",
       "    <tr>\n",
       "      <th>901</th>\n",
       "      <td>Asus</td>\n",
       "      <td>17.3</td>\n",
       "      <td>1920x1080</td>\n",
       "      <td>Intel</td>\n",
       "      <td>2.7</td>\n",
       "      <td>NaN</td>\n",
       "      <td>SSD</td>\n",
       "      <td>256.0</td>\n",
       "      <td>SSD</td>\n",
       "      <td>256.0</td>\n",
       "      <td>Nvidia</td>\n",
       "      <td>Windows</td>\n",
       "      <td>10</td>\n",
       "      <td>3.58</td>\n",
       "      <td>1279.00</td>\n",
       "    </tr>\n",
       "  </tbody>\n",
       "</table>\n",
       "</div>"
      ],
      "text/plain": [
       "    manufacturer  screen_size_inches screen_resolution cpu_manufacturer  \\\n",
       "28          Dell                15.6         1920x1080            Intel   \n",
       "347         Dell                15.6         1920x1080            Intel   \n",
       "901         Asus                17.3         1920x1080            Intel   \n",
       "\n",
       "     cpu_speed_ghz  ram_GB storage_1_type  storage_1_capacity_gb  \\\n",
       "28             1.9     NaN            SSD                  256.0   \n",
       "347            1.9     NaN            SSD                  512.0   \n",
       "901            2.7     NaN            SSD                  256.0   \n",
       "\n",
       "    storage_2_type  storage_2_capacity_gb gpu_manufacturer       os  \\\n",
       "28             SSD                  256.0            Intel  Windows   \n",
       "347            SSD                  256.0            Intel  Windows   \n",
       "901            SSD                  256.0           Nvidia  Windows   \n",
       "\n",
       "    os_version  weight_kg  price_euros  \n",
       "28          10       1.88      1298.00  \n",
       "347         10       1.88      1607.96  \n",
       "901         10       3.58      1279.00  "
      ]
     },
     "execution_count": 70,
     "metadata": {},
     "output_type": "execute_result"
    }
   ],
   "source": [
    "filter_size = laptops_cleaned[\"screen_size_inches\"] >= 15\n",
    "filter_size = laptops.loc[b,[\"manufacturer\",\"screen_size_inches\",\"screen_resolution\",\"cpu_manufacturer\",\"cpu_speed_ghz\",\"ram_GB\",\"storage_1_type\",\"storage_1_capacity_gb\",\"storage_2_type\",\"storage_2_capacity_gb\",\"gpu_manufacturer\",\"os\",\"os_version\",\"weight_kg\",\"price_euros\"]]\n",
    "filter_ssd = (filter_size[\"storage_1_type\"] == \"SSD\") & (filter_size[\"storage_2_type\"] == \"SSD\")\n",
    "filter_size.loc[filter_ssd]"
   ]
  },
  {
   "cell_type": "markdown",
   "metadata": {},
   "source": [
    "## For a bigger screen size,\"ASUS\" is the clear winner while the next one is \"DELL\""
   ]
  },
  {
   "cell_type": "code",
   "execution_count": null,
   "metadata": {},
   "outputs": [],
   "source": []
  },
  {
   "cell_type": "markdown",
   "metadata": {},
   "source": [
    "## Which laptop has the most storage space?"
   ]
  },
  {
   "cell_type": "code",
   "execution_count": 71,
   "metadata": {},
   "outputs": [],
   "source": [
    "filter_storage = (laptops_cleaned[\"storage_2_capacity_gb\"] == 2000) & (laptops_cleaned[\"storage_1_capacity_gb\"] == 512)\n",
    "filter_manf = laptops_cleaned.loc[filter_storage,[\"manufacturer\",\"storage_1_capacity_gb\",\"storage_2_capacity_gb\",\"price_euros\"]]"
   ]
  },
  {
   "cell_type": "code",
   "execution_count": 72,
   "metadata": {},
   "outputs": [
    {
     "data": {
      "text/html": [
       "<div>\n",
       "<style scoped>\n",
       "    .dataframe tbody tr th:only-of-type {\n",
       "        vertical-align: middle;\n",
       "    }\n",
       "\n",
       "    .dataframe tbody tr th {\n",
       "        vertical-align: top;\n",
       "    }\n",
       "\n",
       "    .dataframe thead th {\n",
       "        text-align: right;\n",
       "    }\n",
       "</style>\n",
       "<table border=\"1\" class=\"dataframe\">\n",
       "  <thead>\n",
       "    <tr style=\"text-align: right;\">\n",
       "      <th></th>\n",
       "      <th>manufacturer</th>\n",
       "      <th>storage_1_capacity_gb</th>\n",
       "      <th>storage_2_capacity_gb</th>\n",
       "      <th>price_euros</th>\n",
       "    </tr>\n",
       "  </thead>\n",
       "  <tbody>\n",
       "    <tr>\n",
       "      <th>370</th>\n",
       "      <td>Asus</td>\n",
       "      <td>512.0</td>\n",
       "      <td>2000.0</td>\n",
       "      <td>1099.0</td>\n",
       "    </tr>\n",
       "    <tr>\n",
       "      <th>894</th>\n",
       "      <td>MSI</td>\n",
       "      <td>512.0</td>\n",
       "      <td>2000.0</td>\n",
       "      <td>2649.0</td>\n",
       "    </tr>\n",
       "    <tr>\n",
       "      <th>977</th>\n",
       "      <td>Asus</td>\n",
       "      <td>512.0</td>\n",
       "      <td>2000.0</td>\n",
       "      <td>1799.0</td>\n",
       "    </tr>\n",
       "  </tbody>\n",
       "</table>\n",
       "</div>"
      ],
      "text/plain": [
       "    manufacturer  storage_1_capacity_gb  storage_2_capacity_gb  price_euros\n",
       "370         Asus                  512.0                 2000.0       1099.0\n",
       "894          MSI                  512.0                 2000.0       2649.0\n",
       "977         Asus                  512.0                 2000.0       1799.0"
      ]
     },
     "execution_count": 72,
     "metadata": {},
     "output_type": "execute_result"
    }
   ],
   "source": [
    "filter_manf"
   ]
  },
  {
   "cell_type": "markdown",
   "metadata": {},
   "source": [
    "## ASUS,MSI are clear winners here"
   ]
  }
 ],
 "metadata": {
  "kernelspec": {
   "display_name": "Python 3",
   "language": "python",
   "name": "python3"
  },
  "language_info": {
   "codemirror_mode": {
    "name": "ipython",
    "version": 3
   },
   "file_extension": ".py",
   "mimetype": "text/x-python",
   "name": "python",
   "nbconvert_exporter": "python",
   "pygments_lexer": "ipython3",
   "version": "3.6.4"
  }
 },
 "nbformat": 4,
 "nbformat_minor": 2
}
